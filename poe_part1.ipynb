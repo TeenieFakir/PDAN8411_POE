{
  "nbformat": 4,
  "nbformat_minor": 0,
  "metadata": {
    "colab": {
      "provenance": [],
      "toc_visible": true
    },
    "kernelspec": {
      "name": "python3",
      "display_name": "Python 3"
    },
    "language_info": {
      "name": "python"
    }
  },
  "cells": [
    {
      "cell_type": "markdown",
      "source": [
        "## Linear Regression Assumptions\n",
        "\n",
        "To ensure the [Kaggle Insurance Dataset](https://www.kaggle.com/datasets/mirichoi0218/insurance) is suitable for linear regression, we verify the following assumptions (Muller & Guido, 2016, Chapter 2):\n",
        "\n",
        "1. **Continuous Target**: The dependent variable (`charges`) must be numerical and continuous.\n",
        "2. **Linear Relationships**: Features (e.g., `age`, `bmi`) should have linear relationships with `charges`, checked via scatter plots.\n",
        "3. **No Extreme Outliers**: Outliers can skew results, assessed with boxplots.\n",
        "4. **Homoscedasticity**: Residuals should have constant variance, checked post-modeling.\n",
        "5. **Normality of Residuals**: Residuals should be normally distributed, checked post-modeling.\n",
        "6. **Independence**: Observations are independent (assumed for insurance data).\n",
        "7. **Data Quality**: Minimal missing values, correct types, no duplicates.\n",
        "\n",
        "**Research**:\n",
        "- Scikit-learn (2021) recommends encoding categorical variables for regression.\n",
        "- Brownlee (2020) suggests checking skewness for transformations (e.g., log-transformation).\n",
        "\n",
        "**Implications**:\n",
        "- Confirm `charges` is continuous and check skewness.\n",
        "- Plan EDA for linearity and outliers.\n",
        "- Preprocess categorical variables (`sex`, `smoker`, `region`) via one-hot encoding (Learning Unit 4, LO1, Page 11).\n",
        "\n",
        "**References**:\n",
        "- Muller, A.C., & Guido, S. (2016). *Introduction to Machine Learning with Python*. O’Reilly Media.\n",
        "- Brownlee, J. (2020). *Data Preparation for Machine Learning*. Machine Learning Mastery.\n",
        "- Scikit-learn. (2021). *User Guide: Linear Models*. https://scikit-learn.org/stable/modules/linear_models.html"
      ],
      "metadata": {
        "id": "1vlwVZxTs4ks"
      }
    },
    {
      "cell_type": "markdown",
      "source": [
        "## Dataset Suitability Evaluation\n",
        "\n",
        "The [Kaggle Insurance Dataset](https://www.kaggle.com/datasets/mirichoi0218/insurance) was evaluated for linear regression (Muller & Guido, 2016):\n",
        "\n",
        "1. **Continuous Target**:\n",
        "   - `charges` is float64, continuous (e.g., $16884.924).\n",
        "   - **Conclusion**: Suitable (Learning Unit 2, LO1, Page 9).\n",
        "\n",
        "2. **Feature Types**:\n",
        "   - Numerical (`age`, `bmi`, `children`); categorical (`sex`, `smoker`, `region`).\n",
        "   - **Conclusion**: Categorical variables need one-hot encoding (Learning Unit 4, LO1, Page 11).\n",
        "\n",
        "3. **Data Quality**:\n",
        "   - No missing values, 1 duplicate, `charges` skewness = 1.52.\n",
        "   - **Conclusion**: Minor cleaning needed; log-transformation suggested (Brownlee, 2020).\n",
        "\n",
        "4. **Linear Relationships**:\n",
        "   - To be confirmed via scatter plots in EDA.\n",
        "\n",
        "5. **Outliers**:\n",
        "   - To be checked via boxplots.\n",
        "\n",
        "6. **Homoscedasticity/Normality**:\n",
        "   - To be assessed post-modeling (Learning Unit 5, LO5, Page 12).\n",
        "\n",
        "7. **Client Context**:\n",
        "   - US data valid for proof of concept; SA data recommended for future.\n",
        "   - **Plan**: Note limitation in report.\n",
        "\n",
        "**Implications**:\n",
        "- **EDA**: Remove duplicates, visualize distributions, scatter plots, boxplots.\n",
        "- **Feature Selection**: Encode variables, use p-values, VIF.\n",
        "- **Model Training**: Consider log-transformation.\n",
        "- **Report**: Include in Introduction and EDA sections.\n",
        "\n",
        "**References**:\n",
        "- Muller, A.C., & Guido, S. (2016). *Introduction to Machine Learning with Python*. O’Reilly Media.\n",
        "- Brownlee, J. (2020). *Data Preparation for Machine Learning*. Machine Learning Mastery.\n",
        "- Scikit-learn. (2021). *User Guide: Linear Models*. https://scikit-learn.org/stable/modules/linear_models.html"
      ],
      "metadata": {
        "id": "EEMA6U1ptv4J"
      }
    },
    {
      "cell_type": "code",
      "source": [
        "### Step 1: Initial Dataset Inspection\n",
        "# Import pandas for data handling\n",
        "import pandas as pd\n",
        "\n",
        "# Load the dataset\n",
        "df = pd.read_csv('insurance.csv')\n",
        "\n",
        "# Inspect structure\n",
        "print(\"Dataset Info:\")\n",
        "print(df.info())\n",
        "\n",
        "# Show first 5 rows\n",
        "print(\"\\nFirst 5 Rows:\")\n",
        "print(df.head())\n",
        "\n",
        "# Check size\n",
        "print(\"\\nDataset Shape:\", df.shape)\n"
      ],
      "metadata": {
        "colab": {
          "base_uri": "https://localhost:8080/"
        },
        "id": "D1gaBRW_ufNa",
        "outputId": "a246f7d7-aa00-4797-bada-3ab02f5aae38"
      },
      "execution_count": null,
      "outputs": [
        {
          "output_type": "stream",
          "name": "stdout",
          "text": [
            "Dataset Info:\n",
            "<class 'pandas.core.frame.DataFrame'>\n",
            "RangeIndex: 1338 entries, 0 to 1337\n",
            "Data columns (total 7 columns):\n",
            " #   Column    Non-Null Count  Dtype  \n",
            "---  ------    --------------  -----  \n",
            " 0   age       1338 non-null   int64  \n",
            " 1   sex       1338 non-null   object \n",
            " 2   bmi       1338 non-null   float64\n",
            " 3   children  1338 non-null   int64  \n",
            " 4   smoker    1338 non-null   object \n",
            " 5   region    1338 non-null   object \n",
            " 6   charges   1338 non-null   float64\n",
            "dtypes: float64(2), int64(2), object(3)\n",
            "memory usage: 73.3+ KB\n",
            "None\n",
            "\n",
            "First 5 Rows:\n",
            "   age     sex     bmi  children smoker     region      charges\n",
            "0   19  female  27.900         0    yes  southwest  16884.92400\n",
            "1   18    male  33.770         1     no  southeast   1725.55230\n",
            "2   28    male  33.000         3     no  southeast   4449.46200\n",
            "3   33    male  22.705         0     no  northwest  21984.47061\n",
            "4   32    male  28.880         0     no  northwest   3866.85520\n",
            "\n",
            "Dataset Shape: (1338, 7)\n"
          ]
        }
      ]
    },
    {
      "cell_type": "code",
      "source": [
        "### Step 1: Suitability Criteria Check\n",
        "# Check duplicates\n",
        "print(\"\\nDuplicates:\", df.duplicated().sum())\n",
        "\n",
        "# Confirm target type and sample values\n",
        "print(\"\\nCharges Data Type:\", df['charges'].dtype)\n",
        "print(\"Sample Charges:\", df['charges'].head().tolist())\n",
        "\n",
        "# Check skewness\n",
        "print(\"\\nCharges Skewness:\", df['charges'].skew())"
      ],
      "metadata": {
        "colab": {
          "base_uri": "https://localhost:8080/"
        },
        "id": "TPwVFCqKuv2y",
        "outputId": "0ca840c9-eeae-4b60-ac4b-771e1eae5331"
      },
      "execution_count": null,
      "outputs": [
        {
          "output_type": "stream",
          "name": "stdout",
          "text": [
            "\n",
            "Duplicates: 1\n",
            "\n",
            "Charges Data Type: float64\n",
            "Sample Charges: [16884.924, 1725.5523, 4449.462, 21984.47061, 3866.8552]\n",
            "\n",
            "Charges Skewness: 1.5158796580240388\n"
          ]
        }
      ]
    }
  ]
}